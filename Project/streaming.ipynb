{
 "cells": [
  {
   "cell_type": "code",
   "execution_count": 2,
   "metadata": {},
   "outputs": [],
   "source": [
    "#Importamos libreria\n",
    "import pandas as pd"
   ]
  },
  {
   "attachments": {},
   "cell_type": "markdown",
   "metadata": {},
   "source": [
    "Ingesta de datos"
   ]
  },
  {
   "cell_type": "code",
   "execution_count": 3,
   "metadata": {},
   "outputs": [],
   "source": [
    "amazon = pd.read_csv('/Users/ale_d/Desktop/MLops_Projects/Datasets_Streaming/amazon_prime_titles.csv')\n",
    "disney_plus = pd.read_csv('/Users/ale_d/Desktop/MLops_Projects/Datasets_Streaming/disney_plus_titles.csv')\n",
    "hulu = pd.read_csv('/Users/ale_d/Desktop/MLops_Projects/Datasets_Streaming/hulu_titles.csv')\n",
    "netflix = pd.read_csv('/Users/ale_d/Desktop/MLops_Projects/Datasets_Streaming/netflix_titles.csv')"
   ]
  },
  {
   "attachments": {},
   "cell_type": "markdown",
   "metadata": {},
   "source": [
    "Generar el campo \"id\" para cada dataset:"
   ]
  },
  {
   "cell_type": "code",
   "execution_count": 4,
   "metadata": {},
   "outputs": [],
   "source": [
    "# Convertir la columna show_id en una cadena de texto y asignarla a la columna id\n",
    "amazon['id'] = 'a' + amazon['show_id'].astype(str)\n",
    "disney_plus['i'] = 'd' + disney_plus['show_id'].astype(str)\n",
    "hulu['id'] = 'h' + hulu['show_id'].astype(str)\n",
    "netflix['id'] = 'n' + netflix['show_id'].astype(str)"
   ]
  },
  {
   "attachments": {},
   "cell_type": "markdown",
   "metadata": {},
   "source": [
    "Reemplazar los valores nulos del campo \"rating\" con el string \"G\""
   ]
  },
  {
   "cell_type": "code",
   "execution_count": 5,
   "metadata": {},
   "outputs": [],
   "source": [
    "amazon['rating'] = amazon['rating'].fillna('G')\n",
    "disney_plus['rating'] = disney_plus['rating'].fillna('G')\n",
    "hulu['rating'] = hulu['rating'].fillna('G')\n",
    "netflix['rating'] = netflix['rating'].fillna('G')"
   ]
  },
  {
   "attachments": {},
   "cell_type": "markdown",
   "metadata": {},
   "source": [
    "Formatear las fechas en el formato AAAA-mm-dd"
   ]
  },
  {
   "cell_type": "code",
   "execution_count": 6,
   "metadata": {},
   "outputs": [],
   "source": [
    "amazon['date_added'] = pd.to_datetime(amazon['date_added']).dt.strftime('%Y-%m-%d')\n",
    "disney_plus['date_added'] = pd.to_datetime(disney_plus['date_added']).dt.strftime('%Y-%m-%d')\n",
    "hulu['date_added'] = pd.to_datetime(hulu['date_added']).dt.strftime('%Y-%m-%d')\n",
    "netflix['date_added'] = pd.to_datetime(netflix['date_added']).dt.strftime('%Y-%m-%d')"
   ]
  },
  {
   "attachments": {},
   "cell_type": "markdown",
   "metadata": {},
   "source": [
    "Convertir el campo \"duration\" en dos campos: \"duration_int\" y \"duration_type\""
   ]
  },
  {
   "cell_type": "code",
   "execution_count": 7,
   "metadata": {},
   "outputs": [],
   "source": [
    "amazon[['duration_int', 'duration_type']] = amazon['duration'].str.extract('(\\d+) (\\D+)')\n",
    "disney_plus[['duration_int', 'duration_type']] = disney_plus['duration'].str.extract('(\\d+) (\\D+)')\n",
    "hulu[['duration_int', 'duration_type']] = hulu['duration'].str.extract('(\\d+) (\\D+)')\n",
    "netflix[['duration_int', 'duration_type']] = netflix['duration'].str.extract('(\\d+) (\\D+)')"
   ]
  },
  {
   "attachments": {},
   "cell_type": "markdown",
   "metadata": {},
   "source": [
    "Convertir los campos de texto a minúsculas"
   ]
  },
  {
   "cell_type": "code",
   "execution_count": 8,
   "metadata": {},
   "outputs": [],
   "source": [
    "amazon = amazon.apply(lambda x: x.astype(str).str.lower())\n",
    "disney_plus = disney_plus.apply(lambda x: x.astype(str).str.lower())\n",
    "hulu = hulu.apply(lambda x: x.astype(str).str.lower())\n",
    "netflix = netflix.apply(lambda x: x.astype(str).str.lower())"
   ]
  },
  {
   "cell_type": "code",
   "execution_count": 9,
   "metadata": {},
   "outputs": [],
   "source": [
    "amazon.to_csv('/Users/ale_d/Desktop/MLops_Projects/Datasets_Streaming_limpios/amazon.csv', index=False)\n",
    "disney_plus.to_csv('/Users/ale_d/Desktop/MLops_Projects/Datasets_Streaming_limpios/disney.csv', index=False)\n",
    "hulu.to_csv('/Users/ale_d/Desktop/MLops_Projects/Datasets_Streaming_limpios/hulu.csv', index=False)\n",
    "netflix.to_csv('/Users/ale_d/Desktop/MLops_Projects/Datasets_Streaming_limpios/netflix.csv', index=False)"
   ]
  },
  {
   "cell_type": "code",
   "execution_count": null,
   "metadata": {},
   "outputs": [],
   "source": []
  }
 ],
 "metadata": {
  "kernelspec": {
   "display_name": "base",
   "language": "python",
   "name": "python3"
  },
  "language_info": {
   "codemirror_mode": {
    "name": "ipython",
    "version": 3
   },
   "file_extension": ".py",
   "mimetype": "text/x-python",
   "name": "python",
   "nbconvert_exporter": "python",
   "pygments_lexer": "ipython3",
   "version": "3.10.9"
  },
  "orig_nbformat": 4
 },
 "nbformat": 4,
 "nbformat_minor": 2
}
